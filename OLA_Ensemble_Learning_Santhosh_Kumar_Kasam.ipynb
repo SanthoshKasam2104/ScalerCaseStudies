{
  "nbformat": 4,
  "nbformat_minor": 0,
  "metadata": {
    "colab": {
      "provenance": [],
      "authorship_tag": "ABX9TyNLUOU1/rrQAR+P3QPH4Fw8",
      "include_colab_link": true
    },
    "kernelspec": {
      "name": "python3",
      "display_name": "Python 3"
    },
    "language_info": {
      "name": "python"
    }
  },
  "cells": [
    {
      "cell_type": "markdown",
      "metadata": {
        "id": "view-in-github",
        "colab_type": "text"
      },
      "source": [
        "<a href=\"https://colab.research.google.com/github/SanthoshKasam2104/ScalerCaseStudies/blob/main/OLA_Ensemble_Learning_Santhosh_Kumar_Kasam.ipynb\" target=\"_parent\"><img src=\"https://colab.research.google.com/assets/colab-badge.svg\" alt=\"Open In Colab\"/></a>"
      ]
    },
    {
      "cell_type": "code",
      "execution_count": 1,
      "metadata": {
        "colab": {
          "base_uri": "https://localhost:8080/"
        },
        "id": "NdGn1MiVU6L-",
        "outputId": "8bffb5de-84cb-489e-9ec0-efe0fd9608f9"
      },
      "outputs": [
        {
          "output_type": "stream",
          "name": "stdout",
          "text": [
            "--2024-12-22 03:06:30--  https://d2beiqkhq929f0.cloudfront.net/public_assets/assets/000/002/492/original/ola_driver_scaler.csv\n",
            "Resolving d2beiqkhq929f0.cloudfront.net (d2beiqkhq929f0.cloudfront.net)... 3.169.117.127, 3.169.117.64, 3.169.117.172, ...\n",
            "Connecting to d2beiqkhq929f0.cloudfront.net (d2beiqkhq929f0.cloudfront.net)|3.169.117.127|:443... connected.\n",
            "HTTP request sent, awaiting response... 200 OK\n",
            "Length: 1127673 (1.1M) [text/plain]\n",
            "Saving to: ‘ola_driver_scaler.csv’\n",
            "\n",
            "\rola_driver_scaler.c   0%[                    ]       0  --.-KB/s               \rola_driver_scaler.c 100%[===================>]   1.08M  --.-KB/s    in 0.02s   \n",
            "\n",
            "2024-12-22 03:06:30 (44.6 MB/s) - ‘ola_driver_scaler.csv’ saved [1127673/1127673]\n",
            "\n"
          ]
        }
      ],
      "source": [
        "!wget https://d2beiqkhq929f0.cloudfront.net/public_assets/assets/000/002/492/original/ola_driver_scaler.csv"
      ]
    }
  ]
}